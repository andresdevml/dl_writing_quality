{
  "nbformat": 4,
  "nbformat_minor": 0,
  "metadata": {
    "colab": {
      "provenance": [],
      "authorship_tag": "ABX9TyPS/2VZP9ijBtlaCAWzxGIz",
      "include_colab_link": true
    },
    "kernelspec": {
      "name": "python3",
      "display_name": "Python 3"
    },
    "language_info": {
      "name": "python"
    }
  },
  "cells": [
    {
      "cell_type": "markdown",
      "metadata": {
        "id": "view-in-github",
        "colab_type": "text"
      },
      "source": [
        "<a href=\"https://colab.research.google.com/github/andresdevml/dl_writing_quality/blob/main/data_wraling.ipynb\" target=\"_parent\"><img src=\"https://colab.research.google.com/assets/colab-badge.svg\" alt=\"Open In Colab\"/></a>"
      ]
    },
    {
      "cell_type": "markdown",
      "source": [
        "# **Importamos librerias de interes**"
      ],
      "metadata": {
        "id": "A83ZM-GHImsk"
      }
    },
    {
      "cell_type": "code",
      "execution_count": 1,
      "metadata": {
        "id": "oGaCrRkxIga6"
      },
      "outputs": [],
      "source": [
        "import numpy as np\n",
        "\n",
        "import pandas as pd\n",
        "\n",
        "from sklearn import svm\n",
        "\n",
        "from sklearn.preprocessing import StandardScaler\n",
        "\n",
        "from sklearn.preprocessing import MinMaxScaler\n",
        "\n",
        "from sklearn.pipeline import make_pipeline\n",
        "\n",
        "import keras\n",
        "\n",
        "import tensorflow as tf\n",
        "\n",
        "import matplotlib.pyplot as plt\n",
        "\n",
        "from scipy import interpolate\n",
        "\n",
        "from google.colab import drive\n",
        "\n",
        "import pickle\n"
      ]
    },
    {
      "cell_type": "markdown",
      "source": [
        "# **Funciones de trabajo**"
      ],
      "metadata": {
        "id": "QCNpWNw7Kj2M"
      }
    },
    {
      "cell_type": "code",
      "source": [
        "# Definimos las funciones de transformacion\n",
        "\n",
        "#_______________________________________________________________________________\n",
        "def fun_action_time(df_data):\n",
        "\n",
        "  std_scaler=StandardScaler()\n",
        "\n",
        "  action_time=df_data['action_time']\n",
        "\n",
        "  action_time=std_scaler.fit_transform(\n",
        "                                    df_data['action_time'].values.reshape(-1,1))\n",
        "\n",
        "  return action_time\n",
        "\n",
        "#_______________________________________________________________________________\n",
        "def fun_delay_time(df_data):\n",
        "\n",
        "  std_scaler=StandardScaler()\n",
        "\n",
        "  up_time_displaced=pd.concat(\n",
        "                              objs=[  pd.Series([0]) ,   df_data['up_time']  ],\n",
        "                              ignore_index=True\n",
        "                                                            )\n",
        "\n",
        "  delay_time=std_scaler.fit_transform(\n",
        "                                  (df_data['down_time'].values-up_time_displaced\n",
        "                                    .iloc[0:-1]\n",
        "                                    .values)\n",
        "                                    .reshape(-1,1)\n",
        "                                                            )\n",
        "  return delay_time\n",
        "\n",
        "#_______________________________________________________________________________\n",
        "def fun_activity(df_data):\n",
        "\n",
        "  vocab_cut=['Non', 'Inp', 'Rem', 'Rep', 'Mov', 'Pas']\n",
        "\n",
        "  map_dic_activity={'Inp': 0.22, 'Rem': 2.38, 'Non': 4.86, 'Rep': 12.41,\n",
        "                    'Pas': 21.96, 'Mov': 34.07}\n",
        "\n",
        "  activity_cut=df_data['activity'].apply(lambda x: x[:3])\n",
        "\n",
        "\n",
        "  cat_activity=np.array(\n",
        "                activity_cut.apply(lambda x: map_dic_activity[x])).reshape(-1,1)\n",
        "\n",
        "  return cat_activity\n",
        "\n",
        "\n",
        "\n",
        "#_______________________________________________________________________________\n",
        "\n",
        "# funcion auxiliar 1\n",
        "def mod_act(str_arr):\n",
        "  if str_arr=='NoChange':\n",
        "    return 0\n",
        "  else:\n",
        "    if ' => ' in str_arr:\n",
        "      str_split=str_arr.split(' => ', maxsplit=1)\n",
        "      return len(str_split[0])+len(str_split[1])\n",
        "    else:\n",
        "      return len(str_arr)\n",
        "\n",
        "# funcion auxiliar 2\n",
        "def cut_act(len_act):\n",
        "  if len_act>=2:\n",
        "    return 2\n",
        "  else:\n",
        "    return len_act\n",
        "\n",
        "def fun_activity_mod(df_data):\n",
        "\n",
        "  map_dic_mod_activity={1: 0.08853, 0: 2.5686, 2: 9.4840}\n",
        "\n",
        "  activity_mod=df_data['text_change'].apply(mod_act).apply(cut_act)\n",
        "\n",
        "  cat_activity_mod=np.array(activity_mod.apply(\n",
        "                              lambda x: map_dic_mod_activity[x])).reshape(-1,1)\n",
        "\n",
        "\n",
        "  return cat_activity_mod\n",
        "\n",
        "#_______________________________________________________________________________\n",
        "\n",
        "def fun_event(df_data):\n",
        "\n",
        "  vocab=['q', 'Space', 'Backspace', 'Shift', 'ArrowRight', 'Leftclick',\n",
        "         'ArrowLeft', '.', ',', 'ArrowDown', 'ArrowUp', 'Enter', 'CapsLock']\n",
        "\n",
        "  layer = tf.keras.layers.StringLookup(vocabulary=vocab,\n",
        "                                      num_oov_indices=1,\n",
        "                                     output_mode='int')\n",
        "\n",
        "  map_dic_event={1: 0.45, 2: 2.40, 3: 4.56, 4: 7.78, 5: 12.018, 6: 16.54,\n",
        "                 7: 21.43, 8: 26.38, 0: 31.34, 9: 36.53, 10: 42.13,\n",
        "                 11: 47.83, 12: 53.75,\n",
        "                 13: 60.25}\n",
        "\n",
        "\n",
        "  event=pd.Series(layer(df_data['up_event'])).apply(\n",
        "                              lambda x: map_dic_event[x]).values.reshape(-1,1)\n",
        "\n",
        "  return event\n",
        "\n",
        "#_______________________________________________________________________________\n",
        "\n",
        "def fun_cursor_position(df_data):\n",
        "\n",
        "\n",
        "  std_scaler=StandardScaler()\n",
        "\n",
        "  cursor_position=df_data['cursor_position'].values\n",
        "\n",
        "  x_cursor_position=np.arange(len(cursor_position)).reshape(-1,1)\n",
        "\n",
        "  # definimos el svr\n",
        "\n",
        "  regr_cp = make_pipeline(StandardScaler(), svm.SVR(kernel='linear',C=100\n",
        "                                                            , epsilon=10e-21))\n",
        "\n",
        "  regr_cp.fit(x_cursor_position,\n",
        "              cursor_position)\n",
        "\n",
        "  cursor_position_lin=regr_cp.predict(x_cursor_position)\n",
        "\n",
        "  cursor_position_flat=(cursor_position_lin-cursor_position).reshape(-1,1)\n",
        "\n",
        "  # aqui estandarizamos\n",
        "\n",
        "  cursor_position_flat=std_scaler.fit_transform(cursor_position_flat)\n",
        "\n",
        "  return cursor_position_flat\n",
        "\n",
        "#_______________________________________________________________________________\n",
        "\n",
        "def fun_word_count(df_data):\n",
        "\n",
        "  std_scaler=StandardScaler()\n",
        "\n",
        "  word_count=df_data['word_count'].values\n",
        "\n",
        "  x_word_count=np.arange(len(word_count)).reshape(-1,1)\n",
        "\n",
        "  regr_wc = make_pipeline(StandardScaler(), svm.SVR(kernel='linear',C=100,\n",
        "                                                    epsilon=10e-21))\n",
        "\n",
        "  regr_wc.fit(\n",
        "    x_word_count,\n",
        "    word_count)\n",
        "\n",
        "  word_count_lin=regr_wc.predict(x_word_count)\n",
        "\n",
        "  word_count_flat=(word_count_lin-word_count).reshape(-1,1)\n",
        "  word_count_flat=std_scaler.fit_transform(word_count_flat)# aqui estandarizamos\n",
        "\n",
        "  # hacemos la interpolacion\n",
        "\n",
        "  index_interp=np.floor(np.linspace(x_word_count[0], x_word_count[-1] ,\n",
        "                                    int(len(x_word_count)*0.0075))).astype(int)\n",
        "\n",
        "  x_intp=np.squeeze(x_word_count[index_interp])\n",
        "\n",
        "  y=np.squeeze(word_count_flat[index_interp])\n",
        "\n",
        "  f = interpolate.interp1d(x_intp, y,'nearest-up')\n",
        "\n",
        "  word_count_flat_intp=f(x_word_count).reshape(-1,1)\n",
        "\n",
        "  return word_count_flat_intp\n",
        "\n",
        "\n",
        "#_______________________________________________________________________________\n",
        "\n",
        "\n",
        "# funcion auxiliar\n",
        "\n",
        "def text_change_format(row):\n",
        "\n",
        "  if ' => ' in row:\n",
        "    return '=>'\n",
        "  else:\n",
        "    return row\n",
        "\n",
        "def fun_change_text(df_data):\n",
        "\n",
        "  vocab_tc=['q', ' ', 'NoChange', '.', ',', '\\n', \"'\", '\"', '-', '=>', '?',';']\n",
        "\n",
        "  layer_tc= tf.keras.layers.StringLookup(vocabulary=vocab_tc,\n",
        "                                            num_oov_indices=1,\n",
        "                                                  output_mode='int')\n",
        "\n",
        "  map_dic_tc={1: 0.31, 2: 2.12, 3: 4.60, 4: 9.42, 5: 14.45, 6: 20.16, 0: 26.61,\n",
        "              7: 33.07, 8: 40.57, 9: 48.10, 10: 55.65, 11: 63.43, 12: 71.40}\n",
        "\n",
        "\n",
        "\n",
        "\n",
        "\n",
        "  tc_data=pd.Series(\n",
        "          layer_tc(\n",
        "              df_data['text_change'].apply(text_change_format)\n",
        "                                        )\n",
        "                                            ).apply(lambda x:\n",
        "                                             map_dic_tc[x]).values.reshape(-1,1)\n",
        "\n",
        "  return tc_data\n",
        "\n",
        "#_______________________________________________________________________________\n",
        "\n",
        "def fun_len_time(df_data):\n",
        "\n",
        "  max_len_time=8313707\n",
        "\n",
        "  max_ts_len_time=np.maximum(df_data['up_time'].max(),\n",
        "                             df_data['down_time'].max())\n",
        "\n",
        "  return max_ts_len_time/max_len_time\n",
        "\n",
        "#_______________________________________________________________________________\n",
        "\n",
        "def fun_len_word(df_data):\n",
        "\n",
        "  max_len_word=1326\n",
        "\n",
        "  max_ts_len_word=df_data['word_count'].max()\n",
        "\n",
        "  return max_ts_len_word/max_len_word\n",
        "\n",
        "#_______________________________________________________________________________\n",
        "\n",
        "def fun_len_cursor_position(df_data):\n",
        "\n",
        "  max_cursor_position=7802\n",
        "\n",
        "  max_ts_cursor_position=df_data['cursor_position'].max()\n",
        "\n",
        "  return max_ts_cursor_position/max_cursor_position\n",
        "\n"
      ],
      "metadata": {
        "id": "uxlrByd5KoMC"
      },
      "execution_count": 2,
      "outputs": []
    },
    {
      "cell_type": "markdown",
      "source": [
        "# **Importamos la data**"
      ],
      "metadata": {
        "id": "AYOb7PbUItyw"
      }
    },
    {
      "cell_type": "code",
      "source": [
        "# conectamos al drive\n",
        "drive.mount('/content/drive')\n",
        "\n",
        "# Definimos el directorio\n",
        "dir_data_kaggle='./drive/MyDrive/lwpwq/data'\n",
        "\n",
        "\n",
        "# extraemos la data\n",
        "\n",
        "df_train_logs=pd.read_csv(filepath_or_buffer=dir_data_kaggle+'/train_logs.csv')\n",
        "\n",
        "df_train_scores=pd.read_csv(filepath_or_buffer=dir_data_kaggle+'/train_scores.csv')"
      ],
      "metadata": {
        "colab": {
          "base_uri": "https://localhost:8080/"
        },
        "id": "OKh_iMwHIvp_",
        "outputId": "08ee43f3-79db-4d6c-a23f-b0ead16ff4f6"
      },
      "execution_count": 3,
      "outputs": [
        {
          "output_type": "stream",
          "name": "stdout",
          "text": [
            "Drive already mounted at /content/drive; to attempt to forcibly remount, call drive.mount(\"/content/drive\", force_remount=True).\n"
          ]
        }
      ]
    },
    {
      "cell_type": "code",
      "source": [
        "# observemos las columnas presentes\n",
        "\n",
        "df_train_logs.columns"
      ],
      "metadata": {
        "id": "abNDB-KBIrN-",
        "colab": {
          "base_uri": "https://localhost:8080/"
        },
        "outputId": "0b33b920-9a0c-46ff-eedc-59a1f74c460b"
      },
      "execution_count": 4,
      "outputs": [
        {
          "output_type": "execute_result",
          "data": {
            "text/plain": [
              "Index(['id', 'event_id', 'down_time', 'up_time', 'action_time', 'activity',\n",
              "       'down_event', 'up_event', 'text_change', 'cursor_position',\n",
              "       'word_count'],\n",
              "      dtype='object')"
            ]
          },
          "metadata": {},
          "execution_count": 4
        }
      ]
    },
    {
      "cell_type": "markdown",
      "source": [
        "# **Transformamos toda la data**"
      ],
      "metadata": {
        "id": "lU18jCVczJZ5"
      }
    },
    {
      "cell_type": "code",
      "source": [
        "list_id=df_train_logs['id'].unique()\n",
        "\n",
        "\n",
        "train_data={}\n",
        "\n",
        "for id in list_id:\n",
        "  df_data=df_train_logs[df_train_logs['id']==id]\n",
        "\n",
        "\n",
        "  # concatenamos la data\n",
        "\n",
        "  dyn_data=np.hstack(\n",
        "                      tup=(\n",
        "\n",
        "    fun_action_time(df_data),\n",
        "    fun_delay_time(df_data),\n",
        "    fun_activity(df_data),\n",
        "    fun_activity_mod(df_data),\n",
        "    fun_event(df_data),\n",
        "    fun_cursor_position(df_data),\n",
        "    fun_word_count(df_data),\n",
        "    fun_change_text(df_data)\n",
        "                                    )\n",
        "                                                  )\n",
        "\n",
        "  min_max_scaler = MinMaxScaler(feature_range=(0, 5))\n",
        "\n",
        "  dyn_data=min_max_scaler.fit_transform(dyn_data)\n",
        "\n",
        "\n",
        "  stat_data=np.hstack(\n",
        "\n",
        "                          tup=(\n",
        "    fun_len_time(df_data),\n",
        "    fun_len_word(df_data),\n",
        "    fun_len_cursor_position(df_data)\n",
        "                                        )\n",
        "\n",
        "                              )\n",
        "\n",
        "  target=df_train_scores[df_train_scores['id']==id]['score'].values\n",
        "\n",
        "  train_data[id]={\n",
        "\n",
        "        'dyn_data':dyn_data,\n",
        "        'stat_data':stat_data,\n",
        "        'target':target\n",
        "                            }\n",
        "\n",
        "\n"
      ],
      "metadata": {
        "id": "csRwh_SxzLq1",
        "colab": {
          "base_uri": "https://localhost:8080/",
          "height": 774
        },
        "outputId": "f933084e-3289-43fd-d11d-f85c54616fd8"
      },
      "execution_count": 5,
      "outputs": [
        {
          "output_type": "error",
          "ename": "TypeError",
          "evalue": "ignored",
          "traceback": [
            "\u001b[0;31m---------------------------------------------------------------------------\u001b[0m",
            "\u001b[0;31mTypeError\u001b[0m                                 Traceback (most recent call last)",
            "\u001b[0;32m<ipython-input-5-dbf7b3b1d3f2>\u001b[0m in \u001b[0;36m<cell line: 6>\u001b[0;34m()\u001b[0m\n\u001b[1;32m     19\u001b[0m     \u001b[0mfun_event\u001b[0m\u001b[0;34m(\u001b[0m\u001b[0mdf_data\u001b[0m\u001b[0;34m)\u001b[0m\u001b[0;34m,\u001b[0m\u001b[0;34m\u001b[0m\u001b[0;34m\u001b[0m\u001b[0m\n\u001b[1;32m     20\u001b[0m     \u001b[0mfun_cursor_position\u001b[0m\u001b[0;34m(\u001b[0m\u001b[0mdf_data\u001b[0m\u001b[0;34m)\u001b[0m\u001b[0;34m,\u001b[0m\u001b[0;34m\u001b[0m\u001b[0;34m\u001b[0m\u001b[0m\n\u001b[0;32m---> 21\u001b[0;31m     \u001b[0mfun_word_count\u001b[0m\u001b[0;34m(\u001b[0m\u001b[0mdf_data\u001b[0m\u001b[0;34m)\u001b[0m\u001b[0;34m,\u001b[0m\u001b[0;34m\u001b[0m\u001b[0;34m\u001b[0m\u001b[0m\n\u001b[0m\u001b[1;32m     22\u001b[0m     \u001b[0mfun_change_text\u001b[0m\u001b[0;34m(\u001b[0m\u001b[0mdf_data\u001b[0m\u001b[0;34m)\u001b[0m\u001b[0;34m\u001b[0m\u001b[0;34m\u001b[0m\u001b[0m\n\u001b[1;32m     23\u001b[0m                                     )\n",
            "\u001b[0;32m<ipython-input-2-9dd2a64a44de>\u001b[0m in \u001b[0;36mfun_word_count\u001b[0;34m(df_data)\u001b[0m\n\u001b[1;32m    163\u001b[0m   \u001b[0my\u001b[0m\u001b[0;34m=\u001b[0m\u001b[0mnp\u001b[0m\u001b[0;34m.\u001b[0m\u001b[0msqueeze\u001b[0m\u001b[0;34m(\u001b[0m\u001b[0mword_count_flat\u001b[0m\u001b[0;34m[\u001b[0m\u001b[0mindex_interp\u001b[0m\u001b[0;34m]\u001b[0m\u001b[0;34m)\u001b[0m\u001b[0;34m\u001b[0m\u001b[0;34m\u001b[0m\u001b[0m\n\u001b[1;32m    164\u001b[0m \u001b[0;34m\u001b[0m\u001b[0m\n\u001b[0;32m--> 165\u001b[0;31m   \u001b[0mf\u001b[0m \u001b[0;34m=\u001b[0m \u001b[0minterpolate\u001b[0m\u001b[0;34m.\u001b[0m\u001b[0minterp1d\u001b[0m\u001b[0;34m(\u001b[0m\u001b[0mx_intp\u001b[0m\u001b[0;34m,\u001b[0m \u001b[0my\u001b[0m\u001b[0;34m,\u001b[0m\u001b[0;34m'nearest-up'\u001b[0m\u001b[0;34m)\u001b[0m\u001b[0;34m\u001b[0m\u001b[0;34m\u001b[0m\u001b[0m\n\u001b[0m\u001b[1;32m    166\u001b[0m \u001b[0;34m\u001b[0m\u001b[0m\n\u001b[1;32m    167\u001b[0m   \u001b[0mword_count_flat_intp\u001b[0m\u001b[0;34m=\u001b[0m\u001b[0mf\u001b[0m\u001b[0;34m(\u001b[0m\u001b[0mx_word_count\u001b[0m\u001b[0;34m)\u001b[0m\u001b[0;34m.\u001b[0m\u001b[0mreshape\u001b[0m\u001b[0;34m(\u001b[0m\u001b[0;34m-\u001b[0m\u001b[0;36m1\u001b[0m\u001b[0;34m,\u001b[0m\u001b[0;36m1\u001b[0m\u001b[0;34m)\u001b[0m\u001b[0;34m\u001b[0m\u001b[0;34m\u001b[0m\u001b[0m\n",
            "\u001b[0;32m/usr/local/lib/python3.10/dist-packages/scipy/interpolate/_interpolate.py\u001b[0m in \u001b[0;36m__init__\u001b[0;34m(self, x, y, kind, axis, copy, bounds_error, fill_value, assume_sorted)\u001b[0m\n\u001b[1;32m    492\u001b[0m                  assume_sorted=False):\n\u001b[1;32m    493\u001b[0m         \u001b[0;34m\"\"\" Initialize a 1-D linear interpolation class.\"\"\"\u001b[0m\u001b[0;34m\u001b[0m\u001b[0;34m\u001b[0m\u001b[0m\n\u001b[0;32m--> 494\u001b[0;31m         \u001b[0m_Interpolator1D\u001b[0m\u001b[0;34m.\u001b[0m\u001b[0m__init__\u001b[0m\u001b[0;34m(\u001b[0m\u001b[0mself\u001b[0m\u001b[0;34m,\u001b[0m \u001b[0mx\u001b[0m\u001b[0;34m,\u001b[0m \u001b[0my\u001b[0m\u001b[0;34m,\u001b[0m \u001b[0maxis\u001b[0m\u001b[0;34m=\u001b[0m\u001b[0maxis\u001b[0m\u001b[0;34m)\u001b[0m\u001b[0;34m\u001b[0m\u001b[0;34m\u001b[0m\u001b[0m\n\u001b[0m\u001b[1;32m    495\u001b[0m \u001b[0;34m\u001b[0m\u001b[0m\n\u001b[1;32m    496\u001b[0m         \u001b[0mself\u001b[0m\u001b[0;34m.\u001b[0m\u001b[0mbounds_error\u001b[0m \u001b[0;34m=\u001b[0m \u001b[0mbounds_error\u001b[0m  \u001b[0;31m# used by fill_value setter\u001b[0m\u001b[0;34m\u001b[0m\u001b[0;34m\u001b[0m\u001b[0m\n",
            "\u001b[0;32m/usr/local/lib/python3.10/dist-packages/scipy/interpolate/_polyint.py\u001b[0m in \u001b[0;36m__init__\u001b[0;34m(self, xi, yi, axis)\u001b[0m\n\u001b[1;32m     54\u001b[0m         \u001b[0mself\u001b[0m\u001b[0;34m.\u001b[0m\u001b[0mdtype\u001b[0m \u001b[0;34m=\u001b[0m \u001b[0;32mNone\u001b[0m\u001b[0;34m\u001b[0m\u001b[0;34m\u001b[0m\u001b[0m\n\u001b[1;32m     55\u001b[0m         \u001b[0;32mif\u001b[0m \u001b[0myi\u001b[0m \u001b[0;32mis\u001b[0m \u001b[0;32mnot\u001b[0m \u001b[0;32mNone\u001b[0m\u001b[0;34m:\u001b[0m\u001b[0;34m\u001b[0m\u001b[0;34m\u001b[0m\u001b[0m\n\u001b[0;32m---> 56\u001b[0;31m             \u001b[0mself\u001b[0m\u001b[0;34m.\u001b[0m\u001b[0m_set_yi\u001b[0m\u001b[0;34m(\u001b[0m\u001b[0myi\u001b[0m\u001b[0;34m,\u001b[0m \u001b[0mxi\u001b[0m\u001b[0;34m=\u001b[0m\u001b[0mxi\u001b[0m\u001b[0;34m,\u001b[0m \u001b[0maxis\u001b[0m\u001b[0;34m=\u001b[0m\u001b[0maxis\u001b[0m\u001b[0;34m)\u001b[0m\u001b[0;34m\u001b[0m\u001b[0;34m\u001b[0m\u001b[0m\n\u001b[0m\u001b[1;32m     57\u001b[0m \u001b[0;34m\u001b[0m\u001b[0m\n\u001b[1;32m     58\u001b[0m     \u001b[0;32mdef\u001b[0m \u001b[0m__call__\u001b[0m\u001b[0;34m(\u001b[0m\u001b[0mself\u001b[0m\u001b[0;34m,\u001b[0m \u001b[0mx\u001b[0m\u001b[0;34m)\u001b[0m\u001b[0;34m:\u001b[0m\u001b[0;34m\u001b[0m\u001b[0;34m\u001b[0m\u001b[0m\n",
            "\u001b[0;32m/usr/local/lib/python3.10/dist-packages/scipy/interpolate/_polyint.py\u001b[0m in \u001b[0;36m_set_yi\u001b[0;34m(self, yi, xi, axis)\u001b[0m\n\u001b[1;32m    123\u001b[0m         \u001b[0;32mif\u001b[0m \u001b[0mshape\u001b[0m \u001b[0;34m==\u001b[0m \u001b[0;34m(\u001b[0m\u001b[0;34m)\u001b[0m\u001b[0;34m:\u001b[0m\u001b[0;34m\u001b[0m\u001b[0;34m\u001b[0m\u001b[0m\n\u001b[1;32m    124\u001b[0m             \u001b[0mshape\u001b[0m \u001b[0;34m=\u001b[0m \u001b[0;34m(\u001b[0m\u001b[0;36m1\u001b[0m\u001b[0;34m,\u001b[0m\u001b[0;34m)\u001b[0m\u001b[0;34m\u001b[0m\u001b[0;34m\u001b[0m\u001b[0m\n\u001b[0;32m--> 125\u001b[0;31m         \u001b[0;32mif\u001b[0m \u001b[0mxi\u001b[0m \u001b[0;32mis\u001b[0m \u001b[0;32mnot\u001b[0m \u001b[0;32mNone\u001b[0m \u001b[0;32mand\u001b[0m \u001b[0mshape\u001b[0m\u001b[0;34m[\u001b[0m\u001b[0maxis\u001b[0m\u001b[0;34m]\u001b[0m \u001b[0;34m!=\u001b[0m \u001b[0mlen\u001b[0m\u001b[0;34m(\u001b[0m\u001b[0mxi\u001b[0m\u001b[0;34m)\u001b[0m\u001b[0;34m:\u001b[0m\u001b[0;34m\u001b[0m\u001b[0;34m\u001b[0m\u001b[0m\n\u001b[0m\u001b[1;32m    126\u001b[0m             raise ValueError(\"x and y arrays must be equal in length along \"\n\u001b[1;32m    127\u001b[0m                              \"interpolation axis.\")\n",
            "\u001b[0;31mTypeError\u001b[0m: len() of unsized object"
          ]
        }
      ]
    },
    {
      "cell_type": "markdown",
      "source": [
        "# **Exportamos la data**"
      ],
      "metadata": {
        "id": "c97NYG0zCT8V"
      }
    },
    {
      "cell_type": "code",
      "source": [
        "\n",
        "# Open a file and use dump()\n",
        "with open( dir_data_kaggle + '/train_data.pkl', 'wb' ) as file:\n",
        "\n",
        "    # A new file will be created\n",
        "    pickle.dump(train_data, file)"
      ],
      "metadata": {
        "id": "gPhahU0NCTSE"
      },
      "execution_count": null,
      "outputs": []
    },
    {
      "cell_type": "code",
      "source": [
        "id\n"
      ],
      "metadata": {
        "colab": {
          "base_uri": "https://localhost:8080/",
          "height": 36
        },
        "id": "61beH8IgrIGl",
        "outputId": "fe4d4cb4-a22c-43f8-b53b-02eee82ba685"
      },
      "execution_count": 6,
      "outputs": [
        {
          "output_type": "execute_result",
          "data": {
            "text/plain": [
              "'5a3f0d07'"
            ],
            "application/vnd.google.colaboratory.intrinsic+json": {
              "type": "string"
            }
          },
          "metadata": {},
          "execution_count": 6
        }
      ]
    },
    {
      "cell_type": "code",
      "source": [
        "df_data"
      ],
      "metadata": {
        "colab": {
          "base_uri": "https://localhost:8080/",
          "height": 424
        },
        "id": "1Y_kCY6IrMNe",
        "outputId": "d70b0764-bf5d-4226-d586-543c83d8405d"
      },
      "execution_count": 7,
      "outputs": [
        {
          "output_type": "execute_result",
          "data": {
            "text/plain": [
              "               id  event_id  down_time  up_time  action_time       activity  \\\n",
              "2870031  5a3f0d07         1       1208     1276           68  Nonproduction   \n",
              "2870032  5a3f0d07         2      11791    11893          102  Nonproduction   \n",
              "2870033  5a3f0d07         3      11899    11963           64          Input   \n",
              "2870034  5a3f0d07         4      11971    12052           81  Nonproduction   \n",
              "2870035  5a3f0d07         5      12083    12132           49          Input   \n",
              "...           ...       ...        ...      ...          ...            ...   \n",
              "2870288  5a3f0d07       258     111669   111781          112          Input   \n",
              "2870289  5a3f0d07       259     111773   111845           72          Input   \n",
              "2870290  5a3f0d07       260     112685   112741           56          Input   \n",
              "2870291  5a3f0d07       261    1603885  1604003          118  Nonproduction   \n",
              "2870292  5a3f0d07       262    1607164  1607315          151  Nonproduction   \n",
              "\n",
              "        down_event   up_event text_change  cursor_position  word_count  \n",
              "2870031  Leftclick  Leftclick    NoChange                0           0  \n",
              "2870032   CapsLock   CapsLock    NoChange                0           0  \n",
              "2870033          q          q           q                1           1  \n",
              "2870034   CapsLock   CapsLock    NoChange                1           1  \n",
              "2870035          q          q           q                2           1  \n",
              "...            ...        ...         ...              ...         ...  \n",
              "2870288          q          q           q              205          35  \n",
              "2870289          q          q           q              206          35  \n",
              "2870290          .          .           .              207          35  \n",
              "2870291  Leftclick  Leftclick    NoChange              207          35  \n",
              "2870292  Leftclick  Leftclick    NoChange              203          35  \n",
              "\n",
              "[262 rows x 11 columns]"
            ],
            "text/html": [
              "\n",
              "  <div id=\"df-f29a5c8c-575a-46fe-b846-51efe8ac19cb\" class=\"colab-df-container\">\n",
              "    <div>\n",
              "<style scoped>\n",
              "    .dataframe tbody tr th:only-of-type {\n",
              "        vertical-align: middle;\n",
              "    }\n",
              "\n",
              "    .dataframe tbody tr th {\n",
              "        vertical-align: top;\n",
              "    }\n",
              "\n",
              "    .dataframe thead th {\n",
              "        text-align: right;\n",
              "    }\n",
              "</style>\n",
              "<table border=\"1\" class=\"dataframe\">\n",
              "  <thead>\n",
              "    <tr style=\"text-align: right;\">\n",
              "      <th></th>\n",
              "      <th>id</th>\n",
              "      <th>event_id</th>\n",
              "      <th>down_time</th>\n",
              "      <th>up_time</th>\n",
              "      <th>action_time</th>\n",
              "      <th>activity</th>\n",
              "      <th>down_event</th>\n",
              "      <th>up_event</th>\n",
              "      <th>text_change</th>\n",
              "      <th>cursor_position</th>\n",
              "      <th>word_count</th>\n",
              "    </tr>\n",
              "  </thead>\n",
              "  <tbody>\n",
              "    <tr>\n",
              "      <th>2870031</th>\n",
              "      <td>5a3f0d07</td>\n",
              "      <td>1</td>\n",
              "      <td>1208</td>\n",
              "      <td>1276</td>\n",
              "      <td>68</td>\n",
              "      <td>Nonproduction</td>\n",
              "      <td>Leftclick</td>\n",
              "      <td>Leftclick</td>\n",
              "      <td>NoChange</td>\n",
              "      <td>0</td>\n",
              "      <td>0</td>\n",
              "    </tr>\n",
              "    <tr>\n",
              "      <th>2870032</th>\n",
              "      <td>5a3f0d07</td>\n",
              "      <td>2</td>\n",
              "      <td>11791</td>\n",
              "      <td>11893</td>\n",
              "      <td>102</td>\n",
              "      <td>Nonproduction</td>\n",
              "      <td>CapsLock</td>\n",
              "      <td>CapsLock</td>\n",
              "      <td>NoChange</td>\n",
              "      <td>0</td>\n",
              "      <td>0</td>\n",
              "    </tr>\n",
              "    <tr>\n",
              "      <th>2870033</th>\n",
              "      <td>5a3f0d07</td>\n",
              "      <td>3</td>\n",
              "      <td>11899</td>\n",
              "      <td>11963</td>\n",
              "      <td>64</td>\n",
              "      <td>Input</td>\n",
              "      <td>q</td>\n",
              "      <td>q</td>\n",
              "      <td>q</td>\n",
              "      <td>1</td>\n",
              "      <td>1</td>\n",
              "    </tr>\n",
              "    <tr>\n",
              "      <th>2870034</th>\n",
              "      <td>5a3f0d07</td>\n",
              "      <td>4</td>\n",
              "      <td>11971</td>\n",
              "      <td>12052</td>\n",
              "      <td>81</td>\n",
              "      <td>Nonproduction</td>\n",
              "      <td>CapsLock</td>\n",
              "      <td>CapsLock</td>\n",
              "      <td>NoChange</td>\n",
              "      <td>1</td>\n",
              "      <td>1</td>\n",
              "    </tr>\n",
              "    <tr>\n",
              "      <th>2870035</th>\n",
              "      <td>5a3f0d07</td>\n",
              "      <td>5</td>\n",
              "      <td>12083</td>\n",
              "      <td>12132</td>\n",
              "      <td>49</td>\n",
              "      <td>Input</td>\n",
              "      <td>q</td>\n",
              "      <td>q</td>\n",
              "      <td>q</td>\n",
              "      <td>2</td>\n",
              "      <td>1</td>\n",
              "    </tr>\n",
              "    <tr>\n",
              "      <th>...</th>\n",
              "      <td>...</td>\n",
              "      <td>...</td>\n",
              "      <td>...</td>\n",
              "      <td>...</td>\n",
              "      <td>...</td>\n",
              "      <td>...</td>\n",
              "      <td>...</td>\n",
              "      <td>...</td>\n",
              "      <td>...</td>\n",
              "      <td>...</td>\n",
              "      <td>...</td>\n",
              "    </tr>\n",
              "    <tr>\n",
              "      <th>2870288</th>\n",
              "      <td>5a3f0d07</td>\n",
              "      <td>258</td>\n",
              "      <td>111669</td>\n",
              "      <td>111781</td>\n",
              "      <td>112</td>\n",
              "      <td>Input</td>\n",
              "      <td>q</td>\n",
              "      <td>q</td>\n",
              "      <td>q</td>\n",
              "      <td>205</td>\n",
              "      <td>35</td>\n",
              "    </tr>\n",
              "    <tr>\n",
              "      <th>2870289</th>\n",
              "      <td>5a3f0d07</td>\n",
              "      <td>259</td>\n",
              "      <td>111773</td>\n",
              "      <td>111845</td>\n",
              "      <td>72</td>\n",
              "      <td>Input</td>\n",
              "      <td>q</td>\n",
              "      <td>q</td>\n",
              "      <td>q</td>\n",
              "      <td>206</td>\n",
              "      <td>35</td>\n",
              "    </tr>\n",
              "    <tr>\n",
              "      <th>2870290</th>\n",
              "      <td>5a3f0d07</td>\n",
              "      <td>260</td>\n",
              "      <td>112685</td>\n",
              "      <td>112741</td>\n",
              "      <td>56</td>\n",
              "      <td>Input</td>\n",
              "      <td>.</td>\n",
              "      <td>.</td>\n",
              "      <td>.</td>\n",
              "      <td>207</td>\n",
              "      <td>35</td>\n",
              "    </tr>\n",
              "    <tr>\n",
              "      <th>2870291</th>\n",
              "      <td>5a3f0d07</td>\n",
              "      <td>261</td>\n",
              "      <td>1603885</td>\n",
              "      <td>1604003</td>\n",
              "      <td>118</td>\n",
              "      <td>Nonproduction</td>\n",
              "      <td>Leftclick</td>\n",
              "      <td>Leftclick</td>\n",
              "      <td>NoChange</td>\n",
              "      <td>207</td>\n",
              "      <td>35</td>\n",
              "    </tr>\n",
              "    <tr>\n",
              "      <th>2870292</th>\n",
              "      <td>5a3f0d07</td>\n",
              "      <td>262</td>\n",
              "      <td>1607164</td>\n",
              "      <td>1607315</td>\n",
              "      <td>151</td>\n",
              "      <td>Nonproduction</td>\n",
              "      <td>Leftclick</td>\n",
              "      <td>Leftclick</td>\n",
              "      <td>NoChange</td>\n",
              "      <td>203</td>\n",
              "      <td>35</td>\n",
              "    </tr>\n",
              "  </tbody>\n",
              "</table>\n",
              "<p>262 rows × 11 columns</p>\n",
              "</div>\n",
              "    <div class=\"colab-df-buttons\">\n",
              "\n",
              "  <div class=\"colab-df-container\">\n",
              "    <button class=\"colab-df-convert\" onclick=\"convertToInteractive('df-f29a5c8c-575a-46fe-b846-51efe8ac19cb')\"\n",
              "            title=\"Convert this dataframe to an interactive table.\"\n",
              "            style=\"display:none;\">\n",
              "\n",
              "  <svg xmlns=\"http://www.w3.org/2000/svg\" height=\"24px\" viewBox=\"0 -960 960 960\">\n",
              "    <path d=\"M120-120v-720h720v720H120Zm60-500h600v-160H180v160Zm220 220h160v-160H400v160Zm0 220h160v-160H400v160ZM180-400h160v-160H180v160Zm440 0h160v-160H620v160ZM180-180h160v-160H180v160Zm440 0h160v-160H620v160Z\"/>\n",
              "  </svg>\n",
              "    </button>\n",
              "\n",
              "  <style>\n",
              "    .colab-df-container {\n",
              "      display:flex;\n",
              "      gap: 12px;\n",
              "    }\n",
              "\n",
              "    .colab-df-convert {\n",
              "      background-color: #E8F0FE;\n",
              "      border: none;\n",
              "      border-radius: 50%;\n",
              "      cursor: pointer;\n",
              "      display: none;\n",
              "      fill: #1967D2;\n",
              "      height: 32px;\n",
              "      padding: 0 0 0 0;\n",
              "      width: 32px;\n",
              "    }\n",
              "\n",
              "    .colab-df-convert:hover {\n",
              "      background-color: #E2EBFA;\n",
              "      box-shadow: 0px 1px 2px rgba(60, 64, 67, 0.3), 0px 1px 3px 1px rgba(60, 64, 67, 0.15);\n",
              "      fill: #174EA6;\n",
              "    }\n",
              "\n",
              "    .colab-df-buttons div {\n",
              "      margin-bottom: 4px;\n",
              "    }\n",
              "\n",
              "    [theme=dark] .colab-df-convert {\n",
              "      background-color: #3B4455;\n",
              "      fill: #D2E3FC;\n",
              "    }\n",
              "\n",
              "    [theme=dark] .colab-df-convert:hover {\n",
              "      background-color: #434B5C;\n",
              "      box-shadow: 0px 1px 3px 1px rgba(0, 0, 0, 0.15);\n",
              "      filter: drop-shadow(0px 1px 2px rgba(0, 0, 0, 0.3));\n",
              "      fill: #FFFFFF;\n",
              "    }\n",
              "  </style>\n",
              "\n",
              "    <script>\n",
              "      const buttonEl =\n",
              "        document.querySelector('#df-f29a5c8c-575a-46fe-b846-51efe8ac19cb button.colab-df-convert');\n",
              "      buttonEl.style.display =\n",
              "        google.colab.kernel.accessAllowed ? 'block' : 'none';\n",
              "\n",
              "      async function convertToInteractive(key) {\n",
              "        const element = document.querySelector('#df-f29a5c8c-575a-46fe-b846-51efe8ac19cb');\n",
              "        const dataTable =\n",
              "          await google.colab.kernel.invokeFunction('convertToInteractive',\n",
              "                                                    [key], {});\n",
              "        if (!dataTable) return;\n",
              "\n",
              "        const docLinkHtml = 'Like what you see? Visit the ' +\n",
              "          '<a target=\"_blank\" href=https://colab.research.google.com/notebooks/data_table.ipynb>data table notebook</a>'\n",
              "          + ' to learn more about interactive tables.';\n",
              "        element.innerHTML = '';\n",
              "        dataTable['output_type'] = 'display_data';\n",
              "        await google.colab.output.renderOutput(dataTable, element);\n",
              "        const docLink = document.createElement('div');\n",
              "        docLink.innerHTML = docLinkHtml;\n",
              "        element.appendChild(docLink);\n",
              "      }\n",
              "    </script>\n",
              "  </div>\n",
              "\n",
              "\n",
              "<div id=\"df-89f870a6-a45f-42ea-9b2a-2e5315b56621\">\n",
              "  <button class=\"colab-df-quickchart\" onclick=\"quickchart('df-89f870a6-a45f-42ea-9b2a-2e5315b56621')\"\n",
              "            title=\"Suggest charts\"\n",
              "            style=\"display:none;\">\n",
              "\n",
              "<svg xmlns=\"http://www.w3.org/2000/svg\" height=\"24px\"viewBox=\"0 0 24 24\"\n",
              "     width=\"24px\">\n",
              "    <g>\n",
              "        <path d=\"M19 3H5c-1.1 0-2 .9-2 2v14c0 1.1.9 2 2 2h14c1.1 0 2-.9 2-2V5c0-1.1-.9-2-2-2zM9 17H7v-7h2v7zm4 0h-2V7h2v10zm4 0h-2v-4h2v4z\"/>\n",
              "    </g>\n",
              "</svg>\n",
              "  </button>\n",
              "\n",
              "<style>\n",
              "  .colab-df-quickchart {\n",
              "      --bg-color: #E8F0FE;\n",
              "      --fill-color: #1967D2;\n",
              "      --hover-bg-color: #E2EBFA;\n",
              "      --hover-fill-color: #174EA6;\n",
              "      --disabled-fill-color: #AAA;\n",
              "      --disabled-bg-color: #DDD;\n",
              "  }\n",
              "\n",
              "  [theme=dark] .colab-df-quickchart {\n",
              "      --bg-color: #3B4455;\n",
              "      --fill-color: #D2E3FC;\n",
              "      --hover-bg-color: #434B5C;\n",
              "      --hover-fill-color: #FFFFFF;\n",
              "      --disabled-bg-color: #3B4455;\n",
              "      --disabled-fill-color: #666;\n",
              "  }\n",
              "\n",
              "  .colab-df-quickchart {\n",
              "    background-color: var(--bg-color);\n",
              "    border: none;\n",
              "    border-radius: 50%;\n",
              "    cursor: pointer;\n",
              "    display: none;\n",
              "    fill: var(--fill-color);\n",
              "    height: 32px;\n",
              "    padding: 0;\n",
              "    width: 32px;\n",
              "  }\n",
              "\n",
              "  .colab-df-quickchart:hover {\n",
              "    background-color: var(--hover-bg-color);\n",
              "    box-shadow: 0 1px 2px rgba(60, 64, 67, 0.3), 0 1px 3px 1px rgba(60, 64, 67, 0.15);\n",
              "    fill: var(--button-hover-fill-color);\n",
              "  }\n",
              "\n",
              "  .colab-df-quickchart-complete:disabled,\n",
              "  .colab-df-quickchart-complete:disabled:hover {\n",
              "    background-color: var(--disabled-bg-color);\n",
              "    fill: var(--disabled-fill-color);\n",
              "    box-shadow: none;\n",
              "  }\n",
              "\n",
              "  .colab-df-spinner {\n",
              "    border: 2px solid var(--fill-color);\n",
              "    border-color: transparent;\n",
              "    border-bottom-color: var(--fill-color);\n",
              "    animation:\n",
              "      spin 1s steps(1) infinite;\n",
              "  }\n",
              "\n",
              "  @keyframes spin {\n",
              "    0% {\n",
              "      border-color: transparent;\n",
              "      border-bottom-color: var(--fill-color);\n",
              "      border-left-color: var(--fill-color);\n",
              "    }\n",
              "    20% {\n",
              "      border-color: transparent;\n",
              "      border-left-color: var(--fill-color);\n",
              "      border-top-color: var(--fill-color);\n",
              "    }\n",
              "    30% {\n",
              "      border-color: transparent;\n",
              "      border-left-color: var(--fill-color);\n",
              "      border-top-color: var(--fill-color);\n",
              "      border-right-color: var(--fill-color);\n",
              "    }\n",
              "    40% {\n",
              "      border-color: transparent;\n",
              "      border-right-color: var(--fill-color);\n",
              "      border-top-color: var(--fill-color);\n",
              "    }\n",
              "    60% {\n",
              "      border-color: transparent;\n",
              "      border-right-color: var(--fill-color);\n",
              "    }\n",
              "    80% {\n",
              "      border-color: transparent;\n",
              "      border-right-color: var(--fill-color);\n",
              "      border-bottom-color: var(--fill-color);\n",
              "    }\n",
              "    90% {\n",
              "      border-color: transparent;\n",
              "      border-bottom-color: var(--fill-color);\n",
              "    }\n",
              "  }\n",
              "</style>\n",
              "\n",
              "  <script>\n",
              "    async function quickchart(key) {\n",
              "      const quickchartButtonEl =\n",
              "        document.querySelector('#' + key + ' button');\n",
              "      quickchartButtonEl.disabled = true;  // To prevent multiple clicks.\n",
              "      quickchartButtonEl.classList.add('colab-df-spinner');\n",
              "      try {\n",
              "        const charts = await google.colab.kernel.invokeFunction(\n",
              "            'suggestCharts', [key], {});\n",
              "      } catch (error) {\n",
              "        console.error('Error during call to suggestCharts:', error);\n",
              "      }\n",
              "      quickchartButtonEl.classList.remove('colab-df-spinner');\n",
              "      quickchartButtonEl.classList.add('colab-df-quickchart-complete');\n",
              "    }\n",
              "    (() => {\n",
              "      let quickchartButtonEl =\n",
              "        document.querySelector('#df-89f870a6-a45f-42ea-9b2a-2e5315b56621 button');\n",
              "      quickchartButtonEl.style.display =\n",
              "        google.colab.kernel.accessAllowed ? 'block' : 'none';\n",
              "    })();\n",
              "  </script>\n",
              "</div>\n",
              "    </div>\n",
              "  </div>\n"
            ]
          },
          "metadata": {},
          "execution_count": 7
        }
      ]
    },
    {
      "cell_type": "code",
      "source": [
        "df_data['word_count'].plot()\n"
      ],
      "metadata": {
        "colab": {
          "base_uri": "https://localhost:8080/",
          "height": 465
        },
        "id": "l7G0RD_LrTi0",
        "outputId": "1c1e7fc8-4a07-41ba-8bde-ed78fe88565b"
      },
      "execution_count": 10,
      "outputs": [
        {
          "output_type": "execute_result",
          "data": {
            "text/plain": [
              "<Axes: >"
            ]
          },
          "metadata": {},
          "execution_count": 10
        },
        {
          "output_type": "display_data",
          "data": {
            "text/plain": [
              "<Figure size 640x480 with 1 Axes>"
            ],
            "image/png": "[encoded data removed]"
          },
          "metadata": {}
        }
      ]
    },
    {
      "cell_type": "code",
      "source": [
        "\n",
        "std_scaler=StandardScaler()\n",
        "\n",
        "word_count=df_data['word_count'].values\n"
      ],
      "metadata": {
        "id": "0oDJoPXXtaqK"
      },
      "execution_count": 14,
      "outputs": []
    },
    {
      "cell_type": "code",
      "source": [
        "x_word_count=np.arange(len(word_count)).reshape(-1,1)\n",
        "\n",
        "regr_wc = make_pipeline(StandardScaler(), svm.SVR(kernel='linear',C=100,\n",
        "                                                    epsilon=10e-21))\n",
        "\n",
        "regr_wc.fit(\n",
        "    x_word_count,\n",
        "    word_count)"
      ],
      "metadata": {
        "colab": {
          "base_uri": "https://localhost:8080/",
          "height": 126
        },
        "id": "RWMA2NX5tvLo",
        "outputId": "65edc2cf-ba29-41df-b7f8-78f1c1a488db"
      },
      "execution_count": 15,
      "outputs": [
        {
          "output_type": "execute_result",
          "data": {
            "text/plain": [
              "Pipeline(steps=[('standardscaler', StandardScaler()),\n",
              "                ('svr', SVR(C=100, epsilon=1e-20, kernel='linear'))])"
            ],
            "text/html": [
              "<style>#sk-container-id-1 {color: black;background-color: white;}#sk-container-id-1 pre{padding: 0;}#sk-container-id-1 div.sk-toggleable {background-color: white;}#sk-container-id-1 label.sk-toggleable__label {cursor: pointer;display: block;width: 100%;margin-bottom: 0;padding: 0.3em;box-sizing: border-box;text-align: center;}#sk-container-id-1 label.sk-toggleable__label-arrow:before {content: \"▸\";float: left;margin-right: 0.25em;color: #696969;}#sk-container-id-1 label.sk-toggleable__label-arrow:hover:before {color: black;}#sk-container-id-1 div.sk-estimator:hover label.sk-toggleable__label-arrow:before {color: black;}#sk-container-id-1 div.sk-toggleable__content {max-height: 0;max-width: 0;overflow: hidden;text-align: left;background-color: #f0f8ff;}#sk-container-id-1 div.sk-toggleable__content pre {margin: 0.2em;color: black;border-radius: 0.25em;background-color: #f0f8ff;}#sk-container-id-1 input.sk-toggleable__control:checked~div.sk-toggleable__content {max-height: 200px;max-width: 100%;overflow: auto;}#sk-container-id-1 input.sk-toggleable__control:checked~label.sk-toggleable__label-arrow:before {content: \"▾\";}#sk-container-id-1 div.sk-estimator input.sk-toggleable__control:checked~label.sk-toggleable__label {background-color: #d4ebff;}#sk-container-id-1 div.sk-label input.sk-toggleable__control:checked~label.sk-toggleable__label {background-color: #d4ebff;}#sk-container-id-1 input.sk-hidden--visually {border: 0;clip: rect(1px 1px 1px 1px);clip: rect(1px, 1px, 1px, 1px);height: 1px;margin: -1px;overflow: hidden;padding: 0;position: absolute;width: 1px;}#sk-container-id-1 div.sk-estimator {font-family: monospace;background-color: #f0f8ff;border: 1px dotted black;border-radius: 0.25em;box-sizing: border-box;margin-bottom: 0.5em;}#sk-container-id-1 div.sk-estimator:hover {background-color: #d4ebff;}#sk-container-id-1 div.sk-parallel-item::after {content: \"\";width: 100%;border-bottom: 1px solid gray;flex-grow: 1;}#sk-container-id-1 div.sk-label:hover label.sk-toggleable__label {background-color: #d4ebff;}#sk-container-id-1 div.sk-serial::before {content: \"\";position: absolute;border-left: 1px solid gray;box-sizing: border-box;top: 0;bottom: 0;left: 50%;z-index: 0;}#sk-container-id-1 div.sk-serial {display: flex;flex-direction: column;align-items: center;background-color: white;padding-right: 0.2em;padding-left: 0.2em;position: relative;}#sk-container-id-1 div.sk-item {position: relative;z-index: 1;}#sk-container-id-1 div.sk-parallel {display: flex;align-items: stretch;justify-content: center;background-color: white;position: relative;}#sk-container-id-1 div.sk-item::before, #sk-container-id-1 div.sk-parallel-item::before {content: \"\";position: absolute;border-left: 1px solid gray;box-sizing: border-box;top: 0;bottom: 0;left: 50%;z-index: -1;}#sk-container-id-1 div.sk-parallel-item {display: flex;flex-direction: column;z-index: 1;position: relative;background-color: white;}#sk-container-id-1 div.sk-parallel-item:first-child::after {align-self: flex-end;width: 50%;}#sk-container-id-1 div.sk-parallel-item:last-child::after {align-self: flex-start;width: 50%;}#sk-container-id-1 div.sk-parallel-item:only-child::after {width: 0;}#sk-container-id-1 div.sk-dashed-wrapped {border: 1px dashed gray;margin: 0 0.4em 0.5em 0.4em;box-sizing: border-box;padding-bottom: 0.4em;background-color: white;}#sk-container-id-1 div.sk-label label {font-family: monospace;font-weight: bold;display: inline-block;line-height: 1.2em;}#sk-container-id-1 div.sk-label-container {text-align: center;}#sk-container-id-1 div.sk-container {/* jupyter's `normalize.less` sets `[hidden] { display: none; }` but bootstrap.min.css set `[hidden] { display: none !important; }` so we also need the `!important` here to be able to override the default hidden behavior on the sphinx rendered scikit-learn.org. See: https://github.com/scikit-learn/scikit-learn/issues/21755 */display: inline-block !important;position: relative;}#sk-container-id-1 div.sk-text-repr-fallback {display: none;}</style><div id=\"sk-container-id-1\" class=\"sk-top-container\"><div class=\"sk-text-repr-fallback\"><pre>Pipeline(steps=[(&#x27;standardscaler&#x27;, StandardScaler()),\n",
              "                (&#x27;svr&#x27;, SVR(C=100, epsilon=1e-20, kernel=&#x27;linear&#x27;))])</pre><b>In a Jupyter environment, please rerun this cell to show the HTML representation or trust the notebook. <br />On GitHub, the HTML representation is unable to render, please try loading this page with nbviewer.org.</b></div><div class=\"sk-container\" hidden><div class=\"sk-item sk-dashed-wrapped\"><div class=\"sk-label-container\"><div class=\"sk-label sk-toggleable\"><input class=\"sk-toggleable__control sk-hidden--visually\" id=\"sk-estimator-id-1\" type=\"checkbox\" ><label for=\"sk-estimator-id-1\" class=\"sk-toggleable__label sk-toggleable__label-arrow\">Pipeline</label><div class=\"sk-toggleable__content\"><pre>Pipeline(steps=[(&#x27;standardscaler&#x27;, StandardScaler()),\n",
              "                (&#x27;svr&#x27;, SVR(C=100, epsilon=1e-20, kernel=&#x27;linear&#x27;))])</pre></div></div></div><div class=\"sk-serial\"><div class=\"sk-item\"><div class=\"sk-estimator sk-toggleable\"><input class=\"sk-toggleable__control sk-hidden--visually\" id=\"sk-estimator-id-2\" type=\"checkbox\" ><label for=\"sk-estimator-id-2\" class=\"sk-toggleable__label sk-toggleable__label-arrow\">StandardScaler</label><div class=\"sk-toggleable__content\"><pre>StandardScaler()</pre></div></div></div><div class=\"sk-item\"><div class=\"sk-estimator sk-toggleable\"><input class=\"sk-toggleable__control sk-hidden--visually\" id=\"sk-estimator-id-3\" type=\"checkbox\" ><label for=\"sk-estimator-id-3\" class=\"sk-toggleable__label sk-toggleable__label-arrow\">SVR</label><div class=\"sk-toggleable__content\"><pre>SVR(C=100, epsilon=1e-20, kernel=&#x27;linear&#x27;)</pre></div></div></div></div></div></div></div>"
            ]
          },
          "metadata": {},
          "execution_count": 15
        }
      ]
    },
    {
      "cell_type": "code",
      "source": [
        "word_count_lin=regr_wc.predict(x_word_count)\n",
        "\n",
        "word_count_flat=(word_count_lin-word_count).reshape(-1,1)\n",
        "\n",
        "word_count_flat=std_scaler.fit_transform(word_count_flat)# aqui estandarizamos"
      ],
      "metadata": {
        "id": "JoIaUYUqt2gL"
      },
      "execution_count": 16,
      "outputs": []
    },
    {
      "cell_type": "code",
      "source": [
        "plt.figure(figsize=(10,5))\n",
        "plt.plot(x_word_count,word_count, label='word count')\n",
        "plt.plot(x_word_count,word_count_lin, label='SVR')\n",
        "plt.legend()\n",
        "plt.show()"
      ],
      "metadata": {
        "colab": {
          "base_uri": "https://localhost:8080/",
          "height": 445
        },
        "id": "0GIlYv7Xt576",
        "outputId": "23233cf8-c92e-4ce0-c69d-b1a831109acd"
      },
      "execution_count": 21,
      "outputs": [
        {
          "output_type": "display_data",
          "data": {
            "text/plain": [
              "<Figure size 1000x500 with 1 Axes>"
            ],
            "image/png": "[encoded data removed]"
          },
          "metadata": {}
        }
      ]
    },
    {
      "cell_type": "code",
      "source": [
        "  # hacemos la interpolacion\n",
        "\n",
        "index_interp=np.floor(np.linspace(x_word_count[0], x_word_count[-1] ,\n",
        "                                    int(len(x_word_count)*0.0075))).astype(int)"
      ],
      "metadata": {
        "id": "4t0KWhubue9K"
      },
      "execution_count": 22,
      "outputs": []
    },
    {
      "cell_type": "code",
      "source": [
        " int(len(x_word_count)*0.0075)"
      ],
      "metadata": {
        "colab": {
          "base_uri": "https://localhost:8080/"
        },
        "id": "2_4GtrF9u109",
        "outputId": "fbfd1f23-d8d2-4952-c859-11f470d238c6"
      },
      "execution_count": 28,
      "outputs": [
        {
          "output_type": "execute_result",
          "data": {
            "text/plain": [
              "1"
            ]
          },
          "metadata": {},
          "execution_count": 28
        }
      ]
    },
    {
      "cell_type": "code",
      "source": [
        "len(x_word_count)*0.0075"
      ],
      "metadata": {
        "colab": {
          "base_uri": "https://localhost:8080/"
        },
        "id": "RPduAORHu9Bg",
        "outputId": "f7e40830-73e7-4cea-aef5-fe343569e1ae"
      },
      "execution_count": 31,
      "outputs": [
        {
          "output_type": "execute_result",
          "data": {
            "text/plain": [
              "1.9649999999999999"
            ]
          },
          "metadata": {},
          "execution_count": 31
        }
      ]
    }
  ]
}